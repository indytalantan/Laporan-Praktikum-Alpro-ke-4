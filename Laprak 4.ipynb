{
 "cells": [
  {
   "cell_type": "code",
   "execution_count": 27,
   "id": "aae1c40a-71ef-44f3-9958-5645ae60c169",
   "metadata": {},
   "outputs": [
    {
     "name": "stdin",
     "output_type": "stream",
     "text": [
      "Masukkan Usia Anda :  19\n"
     ]
    },
    {
     "name": "stdout",
     "output_type": "stream",
     "text": [
      "Remaja\n"
     ]
    }
   ],
   "source": [
    "#Latihan 4.1 Contoh 3.2\n",
    "usia = int(input(\"Masukkan Usia Anda : \"))\n",
    "\n",
    "if usia <= 5 :\n",
    "    print(\"Balita\")\n",
    "elif usia >= 6 and usia <= 11 :\n",
    "    print(\"Kanak - Kanak\")\n",
    "elif usia >= 12 and usia <= 25 :\n",
    "    print(\"Remaja\")\n",
    "elif usia >= 26 and usia <= 45 : \n",
    "    print(\"Dewasa\")\n",
    "elif usia > 45 :\n",
    "    print(\"Lansia\")"
   ]
  },
  {
   "cell_type": "code",
   "execution_count": 29,
   "id": "e2779b33-d21d-438d-9c26-2399dcc1746d",
   "metadata": {},
   "outputs": [
    {
     "name": "stdin",
     "output_type": "stream",
     "text": [
      "Masukkan Usia Anda :  19\n"
     ]
    },
    {
     "name": "stdout",
     "output_type": "stream",
     "text": [
      "Remaja\n"
     ]
    }
   ],
   "source": [
    "#Latihan 4.1 Contoh 3.3\n",
    "memasukkan_usernya = input(\"Masukkan Usia Anda : \")\n",
    "\n",
    "try :\n",
    "    usia = int (memasukkan_usernya)\n",
    "    if usia <= 5 :\n",
    "        print(\"Balita\")\n",
    "    elif usia >= 6 and usia <= 11 :\n",
    "        print(\"Kanak - Kanak\")\n",
    "    elif usia >= 12 and usia <= 25 :\n",
    "        print(\"Remaja\")\n",
    "    elif usia >= 26 and usia <= 45 :\n",
    "        print(\"Dewasa\")\n",
    "    elif usia > 45 :\n",
    "        print(\"Lansia\")\n",
    "except :\n",
    "    print(\"Anda Salah Memasukkan Input Usia\")"
   ]
  },
  {
   "cell_type": "code",
   "execution_count": 25,
   "id": "7312bef4-d0c2-49fe-a2dd-72d4c5f6b903",
   "metadata": {},
   "outputs": [
    {
     "name": "stdin",
     "output_type": "stream",
     "text": [
      "Masukkan angka :  -12\n"
     ]
    },
    {
     "name": "stdout",
     "output_type": "stream",
     "text": [
      "Bilangan Negatif\n"
     ]
    }
   ],
   "source": [
    "#Latihan 4.2\n",
    "bilangan = int(input(\"Masukkan angka : \"))\n",
    "if bilangan < 0 :\n",
    "    print(\"Bilangan Negatif\")\n",
    "elif bilangan > 0 :\n",
    "    print(\"Bilangan positif\")\n",
    "else :\n",
    "    print(\"Nol\")"
   ]
  },
  {
   "cell_type": "code",
   "execution_count": 19,
   "id": "576e16c2-ace8-47ba-a13e-11c0b6f09c59",
   "metadata": {},
   "outputs": [
    {
     "name": "stdin",
     "output_type": "stream",
     "text": [
      "Masukkan bulan (1 hingga 12) :  9\n"
     ]
    },
    {
     "name": "stdout",
     "output_type": "stream",
     "text": [
      "Jumlah hari : 30\n"
     ]
    }
   ],
   "source": [
    "#Latihan 4.3\n",
    "def mencari_hari(sebulan) :\n",
    "    hari_dalam_sebulan = {\n",
    "        1 : 31, 2 : 28, 3 : 31, 4 : 30, 5 : 31, 6 : 30, 7  : 31, 8 : 31, 9 : 30, 10 : 31, 11 : 30, 12 : 31\n",
    "    }\n",
    "\n",
    "    if sebulan in hari_dalam_sebulan :\n",
    "        return hari_dalam_sebulan[sebulan]\n",
    "    else :\n",
    "        return None\n",
    "\n",
    "try :\n",
    "    sebulan = int(input(\"Masukkan bulan (1 hingga 12) : \"))\n",
    "    sehari = mencari_hari(sebulan)\n",
    "\n",
    "    if sehari :\n",
    "        print(f\"Jumlah hari : {sehari}\")\n",
    "    else : \n",
    "        print(\"Bulan yang Anda Masukkan Tidak Valid\")\n",
    "except :\n",
    "    print(\"Input Harus berupa Angka Antara 1 Hingga 12\")"
   ]
  },
  {
   "cell_type": "code",
   "execution_count": 9,
   "id": "726278b5-f303-4a81-a274-6139a179f273",
   "metadata": {},
   "outputs": [
    {
     "name": "stdin",
     "output_type": "stream",
     "text": [
      "Masukkan sisi a : 17\n",
      "Masukkan sisi b :  19\n",
      "Masukkan sisi c :  17\n"
     ]
    },
    {
     "name": "stdout",
     "output_type": "stream",
     "text": [
      "2 sisi sama\n"
     ]
    }
   ],
   "source": [
    "#Latihan 4.4\n",
    "def mencari_segitiga(sisi_a, sisi_b, sisi_c) :\n",
    "    if sisi_a == sisi_b == sisi_c :\n",
    "        return \"3 sisi sama\"\n",
    "    elif sisi_a == sisi_b or sisi_a == sisi_c or sisi_b == sisi_c :\n",
    "        return \"2 sisi sama\"\n",
    "    else :\n",
    "        return \"Tidak Ada\"\n",
    "\n",
    "try :\n",
    "    sisi_a = int(input(\"Masukkan sisi a :\"))\n",
    "    sisi_b = int(input(\"Masukkan sisi b : \"))\n",
    "    sisi_c = int(input(\"Masukkan sisi c : \"))\n",
    "\n",
    "    if sisi_a > 0 and sisi_b > 0 and sisi_c > 0 :\n",
    "        total = mencari_segitiga(sisi_a, sisi_b, sisi_c)\n",
    "        print(total)\n",
    "    else : \n",
    "        print(\"Panjang sisi merupakan bilangan positif\")\n",
    "except :\n",
    "    print(\"Input harus berupa suatu angka\")"
   ]
  },
  {
   "cell_type": "code",
   "execution_count": null,
   "id": "ded98f24-bbe6-4fdc-a023-622a003a9393",
   "metadata": {},
   "outputs": [],
   "source": []
  }
 ],
 "metadata": {
  "kernelspec": {
   "display_name": "Python [conda env:base] *",
   "language": "python",
   "name": "conda-base-py"
  },
  "language_info": {
   "codemirror_mode": {
    "name": "ipython",
    "version": 3
   },
   "file_extension": ".py",
   "mimetype": "text/x-python",
   "name": "python",
   "nbconvert_exporter": "python",
   "pygments_lexer": "ipython3",
   "version": "3.12.7"
  }
 },
 "nbformat": 4,
 "nbformat_minor": 5
}
